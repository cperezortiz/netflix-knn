{
 "nbformat": 4,
 "nbformat_minor": 2,
 "metadata": {
  "language_info": {
   "name": "python",
   "codemirror_mode": {
    "name": "ipython",
    "version": 3
   },
   "version": "3.7.4"
  },
  "orig_nbformat": 2,
  "file_extension": ".py",
  "mimetype": "text/x-python",
  "name": "python",
  "npconvert_exporter": "python",
  "pygments_lexer": "ipython3",
  "version": 3
 },
 "cells": [
  {
   "cell_type": "code",
   "execution_count": 1,
   "metadata": {},
   "outputs": [],
   "source": [
    "import pandas as pd\n",
    "import numpy as np\n",
    "import math"
   ]
  },
  {
   "cell_type": "markdown",
   "execution_count": null,
   "metadata": {},
   "outputs": [],
   "source": [
    "# Data Manipulation\n",
    "Main Goal: Obtain sparse matrix of users vs movies"
   ]
  },
  {
   "cell_type": "code",
   "execution_count": 2,
   "metadata": {},
   "outputs": [
    {
     "data": {
      "text/html": "<div>\n<style scoped>\n    .dataframe tbody tr th:only-of-type {\n        vertical-align: middle;\n    }\n\n    .dataframe tbody tr th {\n        vertical-align: top;\n    }\n\n    .dataframe thead th {\n        text-align: right;\n    }\n</style>\n<table border=\"1\" class=\"dataframe\">\n  <thead>\n    <tr style=\"text-align: right;\">\n      <th></th>\n      <th>Cust_ID</th>\n      <th>Rating</th>\n      <th>Date</th>\n    </tr>\n  </thead>\n  <tbody>\n    <tr>\n      <td>0</td>\n      <td>1:</td>\n      <td>NaN</td>\n      <td>NaN</td>\n    </tr>\n    <tr>\n      <td>1</td>\n      <td>1488844</td>\n      <td>3.0</td>\n      <td>2005-09-06</td>\n    </tr>\n    <tr>\n      <td>2</td>\n      <td>822109</td>\n      <td>5.0</td>\n      <td>2005-05-13</td>\n    </tr>\n    <tr>\n      <td>3</td>\n      <td>885013</td>\n      <td>4.0</td>\n      <td>2005-10-19</td>\n    </tr>\n    <tr>\n      <td>4</td>\n      <td>30878</td>\n      <td>4.0</td>\n      <td>2005-12-26</td>\n    </tr>\n  </tbody>\n</table>\n</div>",
      "text/plain": "   Cust_ID  Rating        Date\n0       1:     NaN         NaN\n1  1488844     3.0  2005-09-06\n2   822109     5.0  2005-05-13\n3   885013     4.0  2005-10-19\n4    30878     4.0  2005-12-26"
     },
     "execution_count": 2,
     "metadata": {},
     "output_type": "execute_result"
    }
   ],
   "source": [
    "df = pd.read_csv('./dataset/combined_data_1.txt', header=None, names=['Cust_ID', 'Rating', 'Date'], usecols=[0,1,2])\n",
    "df.head()"
   ]
  },
  {
   "cell_type": "code",
   "execution_count": 3,
   "metadata": {},
   "outputs": [
    {
     "name": "stdout",
     "output_type": "stream",
     "text": "Customer count:  470758\n"
    }
   ],
   "source": [
    "movie_count = df.isnull().sum()[1]\n",
    "cust_count = df['Cust_ID'].nunique() - movie_count\n",
    "print('Customer count: ', cust_count)"
   ]
  },
  {
   "cell_type": "code",
   "execution_count": 4,
   "metadata": {},
   "outputs": [
    {
     "name": "stdout",
     "output_type": "stream",
     "text": "movies: \n         index Cust_ID  Rating Date\n0            0      1:     NaN  NaN\n1          548      2:     NaN  NaN\n2          694      3:     NaN  NaN\n3         2707      4:     NaN  NaN\n4         2850      5:     NaN  NaN\n...        ...     ...     ...  ...\n4494  24046714   4495:     NaN  NaN\n4495  24047329   4496:     NaN  NaN\n4496  24056849   4497:     NaN  NaN\n4497  24057564   4498:     NaN  NaN\n4498  24057834   4499:     NaN  NaN\n\n[4499 rows x 4 columns]\n"
    }
   ],
   "source": [
    "df_nan = df[pd.isnull(df.Rating)]\n",
    "df_nan = df_nan.reset_index()\n",
    "df_nan.head()\n",
    "print('movies: ')\n",
    "print(df_nan)"
   ]
  },
  {
   "cell_type": "code",
   "execution_count": 5,
   "metadata": {},
   "outputs": [
    {
     "name": "stdout",
     "output_type": "stream",
     "text": "Movie numpy: [1.000e+00 1.000e+00 1.000e+00 ... 4.499e+03 4.499e+03 4.499e+03]\nLength: 24053764\n"
    }
   ],
   "source": [
    "# add movies as an additional column\n",
    "movie_np = []\n",
    "movie_id = 1\n",
    "for i,j in zip(df_nan['index'][1:], df_nan['index'][:-1]):\n",
    "    temp = np.full((1,i-j-1), movie_id)\n",
    "    movie_np = np.append(movie_np, temp)\n",
    "    movie_id += 1\n",
    "    # print('curr movie: ', movie_id)\n",
    "\n",
    "last_record = np.full((1,len(df) - df_nan.iloc[-1, 0] - 1), movie_id)\n",
    "movie_np = np.append(movie_np, last_record)\n",
    "\n",
    "print('Movie numpy: {}'.format(movie_np))\n",
    "print('Length: {}'.format(len(movie_np)))"
   ]
  },
  {
   "cell_type": "code",
   "execution_count": 6,
   "metadata": {},
   "outputs": [
    {
     "data": {
      "text/html": "<div>\n<style scoped>\n    .dataframe tbody tr th:only-of-type {\n        vertical-align: middle;\n    }\n\n    .dataframe tbody tr th {\n        vertical-align: top;\n    }\n\n    .dataframe thead th {\n        text-align: right;\n    }\n</style>\n<table border=\"1\" class=\"dataframe\">\n  <thead>\n    <tr style=\"text-align: right;\">\n      <th></th>\n      <th>Cust_ID</th>\n      <th>Rating</th>\n      <th>Date</th>\n      <th>Movie_ID</th>\n    </tr>\n  </thead>\n  <tbody>\n    <tr>\n      <td>1</td>\n      <td>1488844</td>\n      <td>3.0</td>\n      <td>2005-09-06</td>\n      <td>1</td>\n    </tr>\n    <tr>\n      <td>2</td>\n      <td>822109</td>\n      <td>5.0</td>\n      <td>2005-05-13</td>\n      <td>1</td>\n    </tr>\n    <tr>\n      <td>3</td>\n      <td>885013</td>\n      <td>4.0</td>\n      <td>2005-10-19</td>\n      <td>1</td>\n    </tr>\n    <tr>\n      <td>4</td>\n      <td>30878</td>\n      <td>4.0</td>\n      <td>2005-12-26</td>\n      <td>1</td>\n    </tr>\n    <tr>\n      <td>5</td>\n      <td>823519</td>\n      <td>3.0</td>\n      <td>2004-05-03</td>\n      <td>1</td>\n    </tr>\n  </tbody>\n</table>\n</div>",
      "text/plain": "   Cust_ID  Rating        Date  Movie_ID\n1  1488844     3.0  2005-09-06         1\n2   822109     5.0  2005-05-13         1\n3   885013     4.0  2005-10-19         1\n4    30878     4.0  2005-12-26         1\n5   823519     3.0  2004-05-03         1"
     },
     "execution_count": 6,
     "metadata": {},
     "output_type": "execute_result"
    }
   ],
   "source": [
    "df = df[pd.notnull(df.Rating)]\n",
    "df['Movie_ID'] = movie_np.astype(int)\n",
    "df['Cust_ID'] = df['Cust_ID'].astype(int)\n",
    "df.head()"
   ]
  },
  {
   "cell_type": "markdown",
   "execution_count": null,
   "metadata": {},
   "outputs": [],
   "source": [
    "### Ratings sparse matrix"
   ]
  },
  {
   "cell_type": "code",
   "execution_count": 7,
   "metadata": {},
   "outputs": [],
   "source": [
    "temp_df = df[['Cust_ID', 'Rating', 'Movie_ID']]\n",
    "pivot_df = pd.pivot_table(temp_df, values='Rating', index='Cust_ID', columns='Movie_ID')"
   ]
  },
  {
   "cell_type": "code",
   "execution_count": 8,
   "metadata": {},
   "outputs": [
    {
     "data": {
      "text/html": "<div>\n<style scoped>\n    .dataframe tbody tr th:only-of-type {\n        vertical-align: middle;\n    }\n\n    .dataframe tbody tr th {\n        vertical-align: top;\n    }\n\n    .dataframe thead th {\n        text-align: right;\n    }\n</style>\n<table border=\"1\" class=\"dataframe\">\n  <thead>\n    <tr style=\"text-align: right;\">\n      <th>Movie_ID</th>\n      <th>1</th>\n      <th>2</th>\n      <th>3</th>\n      <th>4</th>\n      <th>5</th>\n      <th>6</th>\n      <th>7</th>\n      <th>8</th>\n      <th>9</th>\n      <th>10</th>\n      <th>...</th>\n      <th>4490</th>\n      <th>4491</th>\n      <th>4492</th>\n      <th>4493</th>\n      <th>4494</th>\n      <th>4495</th>\n      <th>4496</th>\n      <th>4497</th>\n      <th>4498</th>\n      <th>4499</th>\n    </tr>\n    <tr>\n      <th>Cust_ID</th>\n      <th></th>\n      <th></th>\n      <th></th>\n      <th></th>\n      <th></th>\n      <th></th>\n      <th></th>\n      <th></th>\n      <th></th>\n      <th></th>\n      <th></th>\n      <th></th>\n      <th></th>\n      <th></th>\n      <th></th>\n      <th></th>\n      <th></th>\n      <th></th>\n      <th></th>\n      <th></th>\n      <th></th>\n    </tr>\n  </thead>\n  <tbody>\n    <tr>\n      <td>6</td>\n      <td>NaN</td>\n      <td>NaN</td>\n      <td>NaN</td>\n      <td>NaN</td>\n      <td>NaN</td>\n      <td>NaN</td>\n      <td>NaN</td>\n      <td>NaN</td>\n      <td>NaN</td>\n      <td>NaN</td>\n      <td>...</td>\n      <td>NaN</td>\n      <td>NaN</td>\n      <td>NaN</td>\n      <td>NaN</td>\n      <td>NaN</td>\n      <td>NaN</td>\n      <td>NaN</td>\n      <td>NaN</td>\n      <td>NaN</td>\n      <td>NaN</td>\n    </tr>\n    <tr>\n      <td>7</td>\n      <td>NaN</td>\n      <td>NaN</td>\n      <td>NaN</td>\n      <td>NaN</td>\n      <td>NaN</td>\n      <td>NaN</td>\n      <td>NaN</td>\n      <td>5.0</td>\n      <td>NaN</td>\n      <td>NaN</td>\n      <td>...</td>\n      <td>NaN</td>\n      <td>NaN</td>\n      <td>NaN</td>\n      <td>NaN</td>\n      <td>NaN</td>\n      <td>NaN</td>\n      <td>NaN</td>\n      <td>NaN</td>\n      <td>NaN</td>\n      <td>NaN</td>\n    </tr>\n    <tr>\n      <td>8</td>\n      <td>NaN</td>\n      <td>NaN</td>\n      <td>NaN</td>\n      <td>NaN</td>\n      <td>NaN</td>\n      <td>NaN</td>\n      <td>NaN</td>\n      <td>NaN</td>\n      <td>NaN</td>\n      <td>NaN</td>\n      <td>...</td>\n      <td>NaN</td>\n      <td>NaN</td>\n      <td>NaN</td>\n      <td>NaN</td>\n      <td>NaN</td>\n      <td>NaN</td>\n      <td>NaN</td>\n      <td>NaN</td>\n      <td>NaN</td>\n      <td>NaN</td>\n    </tr>\n    <tr>\n      <td>10</td>\n      <td>NaN</td>\n      <td>NaN</td>\n      <td>NaN</td>\n      <td>NaN</td>\n      <td>NaN</td>\n      <td>NaN</td>\n      <td>NaN</td>\n      <td>NaN</td>\n      <td>NaN</td>\n      <td>NaN</td>\n      <td>...</td>\n      <td>NaN</td>\n      <td>NaN</td>\n      <td>NaN</td>\n      <td>NaN</td>\n      <td>NaN</td>\n      <td>NaN</td>\n      <td>NaN</td>\n      <td>NaN</td>\n      <td>NaN</td>\n      <td>NaN</td>\n    </tr>\n    <tr>\n      <td>25</td>\n      <td>NaN</td>\n      <td>NaN</td>\n      <td>NaN</td>\n      <td>NaN</td>\n      <td>NaN</td>\n      <td>NaN</td>\n      <td>NaN</td>\n      <td>NaN</td>\n      <td>NaN</td>\n      <td>NaN</td>\n      <td>...</td>\n      <td>NaN</td>\n      <td>NaN</td>\n      <td>NaN</td>\n      <td>NaN</td>\n      <td>NaN</td>\n      <td>NaN</td>\n      <td>NaN</td>\n      <td>NaN</td>\n      <td>NaN</td>\n      <td>NaN</td>\n    </tr>\n    <tr>\n      <td>...</td>\n      <td>...</td>\n      <td>...</td>\n      <td>...</td>\n      <td>...</td>\n      <td>...</td>\n      <td>...</td>\n      <td>...</td>\n      <td>...</td>\n      <td>...</td>\n      <td>...</td>\n      <td>...</td>\n      <td>...</td>\n      <td>...</td>\n      <td>...</td>\n      <td>...</td>\n      <td>...</td>\n      <td>...</td>\n      <td>...</td>\n      <td>...</td>\n      <td>...</td>\n      <td>...</td>\n    </tr>\n    <tr>\n      <td>2649404</td>\n      <td>NaN</td>\n      <td>NaN</td>\n      <td>NaN</td>\n      <td>NaN</td>\n      <td>NaN</td>\n      <td>NaN</td>\n      <td>NaN</td>\n      <td>NaN</td>\n      <td>NaN</td>\n      <td>NaN</td>\n      <td>...</td>\n      <td>NaN</td>\n      <td>NaN</td>\n      <td>NaN</td>\n      <td>NaN</td>\n      <td>NaN</td>\n      <td>NaN</td>\n      <td>NaN</td>\n      <td>NaN</td>\n      <td>NaN</td>\n      <td>NaN</td>\n    </tr>\n    <tr>\n      <td>2649409</td>\n      <td>NaN</td>\n      <td>NaN</td>\n      <td>NaN</td>\n      <td>NaN</td>\n      <td>NaN</td>\n      <td>NaN</td>\n      <td>NaN</td>\n      <td>NaN</td>\n      <td>NaN</td>\n      <td>NaN</td>\n      <td>...</td>\n      <td>NaN</td>\n      <td>NaN</td>\n      <td>NaN</td>\n      <td>NaN</td>\n      <td>NaN</td>\n      <td>NaN</td>\n      <td>NaN</td>\n      <td>NaN</td>\n      <td>NaN</td>\n      <td>NaN</td>\n    </tr>\n    <tr>\n      <td>2649421</td>\n      <td>NaN</td>\n      <td>NaN</td>\n      <td>NaN</td>\n      <td>NaN</td>\n      <td>NaN</td>\n      <td>NaN</td>\n      <td>NaN</td>\n      <td>NaN</td>\n      <td>NaN</td>\n      <td>NaN</td>\n      <td>...</td>\n      <td>NaN</td>\n      <td>NaN</td>\n      <td>NaN</td>\n      <td>NaN</td>\n      <td>NaN</td>\n      <td>NaN</td>\n      <td>NaN</td>\n      <td>NaN</td>\n      <td>NaN</td>\n      <td>NaN</td>\n    </tr>\n    <tr>\n      <td>2649426</td>\n      <td>NaN</td>\n      <td>NaN</td>\n      <td>NaN</td>\n      <td>NaN</td>\n      <td>NaN</td>\n      <td>NaN</td>\n      <td>NaN</td>\n      <td>NaN</td>\n      <td>NaN</td>\n      <td>NaN</td>\n      <td>...</td>\n      <td>NaN</td>\n      <td>NaN</td>\n      <td>NaN</td>\n      <td>NaN</td>\n      <td>NaN</td>\n      <td>NaN</td>\n      <td>NaN</td>\n      <td>NaN</td>\n      <td>NaN</td>\n      <td>NaN</td>\n    </tr>\n    <tr>\n      <td>2649429</td>\n      <td>NaN</td>\n      <td>NaN</td>\n      <td>NaN</td>\n      <td>NaN</td>\n      <td>NaN</td>\n      <td>NaN</td>\n      <td>NaN</td>\n      <td>NaN</td>\n      <td>NaN</td>\n      <td>NaN</td>\n      <td>...</td>\n      <td>NaN</td>\n      <td>NaN</td>\n      <td>NaN</td>\n      <td>NaN</td>\n      <td>NaN</td>\n      <td>NaN</td>\n      <td>NaN</td>\n      <td>NaN</td>\n      <td>NaN</td>\n      <td>NaN</td>\n    </tr>\n  </tbody>\n</table>\n<p>470758 rows × 4499 columns</p>\n</div>",
      "text/plain": "Movie_ID  1     2     3     4     5     6     7     8     9     10    ...  \\\nCust_ID                                                               ...   \n6          NaN   NaN   NaN   NaN   NaN   NaN   NaN   NaN   NaN   NaN  ...   \n7          NaN   NaN   NaN   NaN   NaN   NaN   NaN   5.0   NaN   NaN  ...   \n8          NaN   NaN   NaN   NaN   NaN   NaN   NaN   NaN   NaN   NaN  ...   \n10         NaN   NaN   NaN   NaN   NaN   NaN   NaN   NaN   NaN   NaN  ...   \n25         NaN   NaN   NaN   NaN   NaN   NaN   NaN   NaN   NaN   NaN  ...   \n...        ...   ...   ...   ...   ...   ...   ...   ...   ...   ...  ...   \n2649404    NaN   NaN   NaN   NaN   NaN   NaN   NaN   NaN   NaN   NaN  ...   \n2649409    NaN   NaN   NaN   NaN   NaN   NaN   NaN   NaN   NaN   NaN  ...   \n2649421    NaN   NaN   NaN   NaN   NaN   NaN   NaN   NaN   NaN   NaN  ...   \n2649426    NaN   NaN   NaN   NaN   NaN   NaN   NaN   NaN   NaN   NaN  ...   \n2649429    NaN   NaN   NaN   NaN   NaN   NaN   NaN   NaN   NaN   NaN  ...   \n\nMovie_ID  4490  4491  4492  4493  4494  4495  4496  4497  4498  4499  \nCust_ID                                                               \n6          NaN   NaN   NaN   NaN   NaN   NaN   NaN   NaN   NaN   NaN  \n7          NaN   NaN   NaN   NaN   NaN   NaN   NaN   NaN   NaN   NaN  \n8          NaN   NaN   NaN   NaN   NaN   NaN   NaN   NaN   NaN   NaN  \n10         NaN   NaN   NaN   NaN   NaN   NaN   NaN   NaN   NaN   NaN  \n25         NaN   NaN   NaN   NaN   NaN   NaN   NaN   NaN   NaN   NaN  \n...        ...   ...   ...   ...   ...   ...   ...   ...   ...   ...  \n2649404    NaN   NaN   NaN   NaN   NaN   NaN   NaN   NaN   NaN   NaN  \n2649409    NaN   NaN   NaN   NaN   NaN   NaN   NaN   NaN   NaN   NaN  \n2649421    NaN   NaN   NaN   NaN   NaN   NaN   NaN   NaN   NaN   NaN  \n2649426    NaN   NaN   NaN   NaN   NaN   NaN   NaN   NaN   NaN   NaN  \n2649429    NaN   NaN   NaN   NaN   NaN   NaN   NaN   NaN   NaN   NaN  \n\n[470758 rows x 4499 columns]"
     },
     "execution_count": 8,
     "metadata": {},
     "output_type": "execute_result"
    }
   ],
   "source": [
    "pivot_df.iloc[0:]"
   ]
  },
  {
   "cell_type": "markdown",
   "execution_count": 16,
   "metadata": {},
   "outputs": [],
   "source": [
    "### Dates sparse matrix"
   ]
  },
  {
   "cell_type": "code",
   "execution_count": 19,
   "metadata": {},
   "outputs": [],
   "source": [
    "# temp_df = df[['Cust_ID', 'Date', 'Movie_ID']]\n",
    "# dates_df = pd.pivot_table(temp_df, values='Date', index='Cust_ID', columns='Movie_ID')"
   ]
  },
  {
   "cell_type": "code",
   "execution_count": 20,
   "metadata": {},
   "outputs": [],
   "source": [
    "# pivot_df.iloc[0:]"
   ]
  },
  {
   "cell_type": "markdown",
   "execution_count": null,
   "metadata": {},
   "outputs": [],
   "source": [
    "# KNN algorithm\n",
    "Main Goal: to obtaing K nearest neighbors to predict the rating"
   ]
  },
  {
   "cell_type": "code",
   "execution_count": 9,
   "metadata": {},
   "outputs": [],
   "source": [
    "def filter_movies_rated_by_user(cust_ID):\n",
    "    filtered_matrix = pd.DataFrame(pivot_df)\n",
    "    filtered_matrix = filtered_matrix.transpose()\n",
    "    filtered_matrix = filtered_matrix[pd.notnull(filtered_matrix[cust_ID])]\n",
    "    return filtered_matrix.transpose()\n",
    "\n",
    "def calc_similiarity(movieID, filtered_matrix):\n",
    "    target_movie = pivot_df[movieID]\n",
    "    return filtered_matrix.corrwith(target_movie)\n",
    "\n",
    "def sigmoid(val):\n",
    "    return 1.0/(1+math.exp(-val))\n",
    "\n",
    "def calc_weights(gamma, delta, k_neighbors):\n",
    "    k_neighbors = gamma + delta*k_neighbors\n",
    "    return k_neighbors.apply(sigmoid)\n",
    "\n",
    "def weighted_sum(weights, custID):\n",
    "    ratings = np.array([pivot_df.loc[custID][movieID] for movieID in weights.index])\n",
    "    return np.dot(weights, ratings)/sum(weights)"
   ]
  },
  {
   "cell_type": "code",
   "execution_count": 10,
   "metadata": {},
   "outputs": [],
   "source": [
    "def predict_rating(custID, movieID, K=10, delta=-3, gamma=0):\n",
    "    filtered_matrix = filter_movies_rated_by_user(custID)\n",
    "    similarities = calc_similiarity(movieID, filtered_matrix)\n",
    "    similarities.sort_values(ascending=False, inplace=True)\n",
    "    k_neighbors = similarities[0:K]\n",
    "    weights = calc_weights(k_neighbors, delta, gamma)\n",
    "    return weighted_sum(weights, custID)"
   ]
  },
  {
   "cell_type": "markdown",
   "execution_count": 74,
   "metadata": {},
   "outputs": [],
   "source": [
    "# Evaluation\n",
    "Main Goal: obtain RMSE on a validation/test dataset"
   ]
  },
  {
   "cell_type": "code",
   "execution_count": 15,
   "metadata": {},
   "outputs": [],
   "source": [
    "# eval_set: DataFrame of [custID,movieID,rating]\n",
    "def evaluate(eval_set):\n",
    "    predictions = np.vectorize(predict_rating)(eval_set['custID'], eval_set['movieID'])\n",
    "    SSE = sum((predictions-eval_set['rating'])**2)\n",
    "    return math.sqrt(SSE/len(eval_set))\n",
    "# testing:\n",
    "# fake_val_set = pd.DataFrame({'custID': [6, 7, 8], 'movieID': [2, 3, 4], 'rating': [2, 2, 5]})\n",
    "# print(evaluate(fake_val_set))"
   ]
  },
  {
   "cell_type": "code",
   "execution_count": 14,
   "metadata": {},
   "outputs": [
    {
     "name": "stdout",
     "output_type": "stream",
     "text": "predictions: \n[3.50173399 4.30455085]\n\nsubs: \n0    1.501734\n1   -0.695449\nName: rating, dtype: float64\n\npow: \n0    2.255205\n1    0.483650\nName: rating, dtype: float64\n1.1702253004454404\n"
    }
   ],
   "source": []
  },
  {
   "cell_type": "code",
   "execution_count": null,
   "metadata": {},
   "outputs": [],
   "source": []
  }
 ]
}